{
 "cells": [
  {
   "cell_type": "code",
   "execution_count": 7,
   "metadata": {},
   "outputs": [
    {
     "name": "stdout",
     "output_type": "stream",
     "text": [
      "Mean Squared Error: 0.0032\n",
      "R-squared: 0.9306\n",
      "Predictions saved to 'predicted_long_question_proportion.csv'\n",
      "Assignment prediction model saved.\n"
     ]
    }
   ],
   "source": [
    "import pandas as pd\n",
    "import numpy as np\n",
    "from sklearn.model_selection import train_test_split\n",
    "from sklearn.ensemble import GradientBoostingRegressor\n",
    "from sklearn.metrics import mean_squared_error, r2_score\n",
    "import pickle\n",
    "\n",
    "# Load the dataset from CSV\n",
    "df = pd.read_csv('../data/ques_distb_data.csv')\n",
    "\n",
    "# Features and target variable\n",
    "X = df.drop('Long_Question_Proportion', axis=1)  # Features\n",
    "y = df['Long_Question_Proportion']  # Target variable\n",
    "\n",
    "# Train-test split\n",
    "X_train, X_test, y_train, y_test = train_test_split(X, y, test_size=0.2, random_state=42)\n",
    "\n",
    "# Initialize Gradient Boosting Regressor\n",
    "model = GradientBoostingRegressor(n_estimators=100, learning_rate=0.1, max_depth=3, random_state=42)\n",
    "\n",
    "# Fit the model\n",
    "model.fit(X_train, y_train)\n",
    "\n",
    "# Make predictions\n",
    "y_pred = model.predict(X_test)\n",
    "\n",
    "# Replace negative predictions with 0\n",
    "y_pred = np.maximum(y_pred, 0)\n",
    "\n",
    "# Round the predictions to 2 decimal places\n",
    "y_pred = np.round(y_pred, 2)\n",
    "\n",
    "# Evaluate the model\n",
    "mse = mean_squared_error(y_test, y_pred)\n",
    "r2 = r2_score(y_test, y_pred)\n",
    "\n",
    "# Display results\n",
    "print(f\"Mean Squared Error: {mse:.4f}\")\n",
    "print(f\"R-squared: {r2:.4f}\")\n",
    "\n",
    "# Prepare the output DataFrame\n",
    "output_df = X_test.copy()  # Copy features from the test set\n",
    "output_df['Actual Long Question Proportion'] = y_test.values  # Add actual target values\n",
    "output_df['Predicted Long Question Proportion'] = y_pred  # Add predicted values\n",
    "\n",
    "# Save the output to a new CSV file\n",
    "output_df.to_csv('predicted_long_question_proportion.csv', index=False)\n",
    "\n",
    "print(\"Predictions saved to 'predicted_long_question_proportion.csv'\")\n",
    "\n",
    "with open('question_distribution_model.pkl', 'wb') as f:\n",
    "    pickle.dump(model, f)\n",
    "print(\"Assignment prediction model saved.\") \n",
    "\n"
   ]
  },
  {
   "cell_type": "code",
   "execution_count": null,
   "metadata": {},
   "outputs": [],
   "source": []
  }
 ],
 "metadata": {
  "kernelspec": {
   "display_name": "Python 3",
   "language": "python",
   "name": "python3"
  },
  "language_info": {
   "codemirror_mode": {
    "name": "ipython",
    "version": 3
   },
   "file_extension": ".py",
   "mimetype": "text/x-python",
   "name": "python",
   "nbconvert_exporter": "python",
   "pygments_lexer": "ipython3",
   "version": "3.11.5"
  }
 },
 "nbformat": 4,
 "nbformat_minor": 2
}
